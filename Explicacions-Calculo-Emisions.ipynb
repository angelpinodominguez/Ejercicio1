{
 "cells": [
  {
   "cell_type": "markdown",
   "id": "70299271-f994-458a-a527-d3e29569b3d5",
   "metadata": {},
   "source": [
    "# Calculo de emisiones"
   ]
  },
  {
   "cell_type": "markdown",
   "id": "9578fff4-6f81-4912-91e2-4186e4aaab5a",
   "metadata": {},
   "source": [
    "calculo de emisiones de una persona en función de tres variables (kmsDiarios, dias laborables y semanas) y una \"constante\""
   ]
  },
  {
   "cell_type": "code",
   "execution_count": 12,
   "id": "225eec99-12d4-4090-87e1-9d50c7723871",
   "metadata": {},
   "outputs": [
    {
     "name": "stdout",
     "output_type": "stream",
     "text": [
      "O teu consumo en bici electrica é: 1800 gC02 frente aos  2400 gC02 que consumiriasen autobus\n"
     ]
    }
   ],
   "source": [
    "#!/usr/bin/env python\n",
    "\n",
    "# Cálculo de emisións\n",
    "\n",
    "# Variables \n",
    "KMS_DIARIOS = 5\n",
    "DIAS_LABORAIS_SEMANAIS = 5\n",
    "SEMANAS = 24\n",
    "\n",
    "# Cada medio de transporte ten o seu índice de emisións medio (gramos por km)\n",
    "# https://www.movilidad-idae.es/destacados/emisiones-de-co2-por-modos-de-transporte-motorizado\n",
    "#Bici Electrica\n",
    "EMISION_X_KM_BICI = 3\n",
    "#Bus Urbano\n",
    "EMISION_X_KM_BUS = 4\n",
    "\n",
    "\n",
    "cantidade_de_emisions_bici = KMS_DIARIOS * DIAS_LABORAIS_SEMANAIS * SEMANAS * EMISION_X_KM_BICI\n",
    "cantidade_de_emisions_bus = KMS_DIARIOS * DIAS_LABORAIS_SEMANAIS * SEMANAS * EMISION_X_KM_BUS\n",
    "print('O teu consumo en bici electrica é:', cantidade_de_emisions_bici, 'gC02' , 'frente aos ', cantidade_de_emisions_bus ,'gC02 que consumirias'\n",
    "      'en autobus')\n"
   ]
  },
  {
   "cell_type": "code",
   "execution_count": null,
   "id": "def0d7c0-0a12-4b92-ad07-488fafa1ef21",
   "metadata": {},
   "outputs": [],
   "source": []
  }
 ],
 "metadata": {
  "kernelspec": {
   "display_name": "Python 3 (ipykernel)",
   "language": "python",
   "name": "python3"
  },
  "language_info": {
   "codemirror_mode": {
    "name": "ipython",
    "version": 3
   },
   "file_extension": ".py",
   "mimetype": "text/x-python",
   "name": "python",
   "nbconvert_exporter": "python",
   "pygments_lexer": "ipython3",
   "version": "3.8.13"
  }
 },
 "nbformat": 4,
 "nbformat_minor": 5
}
